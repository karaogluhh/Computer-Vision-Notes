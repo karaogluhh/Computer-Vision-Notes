{
  "nbformat": 4,
  "nbformat_minor": 0,
  "metadata": {
    "colab": {
      "provenance": [],
      "authorship_tag": "ABX9TyNLCeE4FDSeAWp/WziVrM16",
      "include_colab_link": true
    },
    "kernelspec": {
      "name": "python3",
      "display_name": "Python 3"
    },
    "language_info": {
      "name": "python"
    }
  },
  "cells": [
    {
      "cell_type": "markdown",
      "metadata": {
        "id": "view-in-github",
        "colab_type": "text"
      },
      "source": [
        "<a href=\"https://colab.research.google.com/github/karaogluhh/Computer-Vision-Notes/blob/main/05_opencv_video_processing.ipynb\" target=\"_parent\"><img src=\"https://colab.research.google.com/assets/colab-badge.svg\" alt=\"Open In Colab\"/></a>"
      ]
    },
    {
      "cell_type": "code",
      "execution_count": 2,
      "metadata": {
        "id": "vNn--BgsmC4p"
      },
      "outputs": [],
      "source": [
        "import cv2\n",
        "import numpy as np\n",
        "from google.colab.patches import cv2_imshow"
      ]
    },
    {
      "cell_type": "markdown",
      "metadata": {
        "id": "7cd46a06"
      },
      "source": [
        "The `cv2.VideoCapture()` function in OpenCV is used to open and read video files or capture video streams from a camera.\n",
        "\n",
        "Here are some key aspects:\n",
        "\n",
        "*   **Opening a video file:** You can pass the path to a video file as an argument to `cv2.VideoCapture()`, like this:\n",
        "\n"
      ]
    },
    {
      "cell_type": "code",
      "metadata": {
        "id": "06d634b8"
      },
      "source": [
        "camera = cv2.VideoCapture(0)"
      ],
      "execution_count": 14,
      "outputs": []
    },
    {
      "cell_type": "code",
      "source": [
        "sample_video = cv2.VideoCapture(\"sample_video.mp4\")"
      ],
      "metadata": {
        "id": "R9p5BcMJnfqt"
      },
      "execution_count": 9,
      "outputs": []
    },
    {
      "cell_type": "markdown",
      "source": [
        "---"
      ],
      "metadata": {
        "id": "75FfUVFKtbjb"
      }
    },
    {
      "cell_type": "markdown",
      "metadata": {
        "id": "7f247ab6"
      },
      "source": [
        "The `cv2.VideoCapture()` function in OpenCV is used to open and read video files or capture video streams from a camera.\n",
        "\n",
        "Here are some key aspects and usage examples:\n",
        "\n",
        "*   **Opening a video file:** You can pass the path to a video file as an argument to `cv2.VideoCapture()`, like this:"
      ]
    },
    {
      "cell_type": "code",
      "metadata": {
        "id": "c3889882"
      },
      "source": [
        "camera = cv2.VideoCapture(0)"
      ],
      "execution_count": 16,
      "outputs": []
    },
    {
      "cell_type": "code",
      "source": [
        "print(f\"Video FPS: {sample_video.get(cv2.CAP_PROP_FPS)}\")\n",
        "print(f\"Video Width: {sample_video.get(cv2.CAP_PROP_FRAME_WIDTH)}\")\n",
        "print(f\"Video Height: {sample_video.get(cv2.CAP_PROP_FRAME_HEIGHT)}\")\n",
        "print(f\"Video Frame Count: {sample_video.get(cv2.CAP_PROP_FRAME_COUNT)}\")"
      ],
      "metadata": {
        "colab": {
          "base_uri": "https://localhost:8080/"
        },
        "id": "LcAsNqbgp-7H",
        "outputId": "9c55aa82-cceb-4333-8f37-a6c91abd54f0"
      },
      "execution_count": 15,
      "outputs": [
        {
          "output_type": "stream",
          "name": "stdout",
          "text": [
            "Video FPS: 23.976023976023978\n",
            "Video Width: 3840.0\n",
            "Video Height: 2160.0\n",
            "Video Frame Count: 173.0\n"
          ]
        }
      ]
    },
    {
      "cell_type": "markdown",
      "metadata": {
        "id": "e5933b86"
      },
      "source": [
        "The `cv2.VideoWriter()` function in OpenCV is used to save videos. It allows you to write frames into a video file.\n",
        "\n",
        "Here's a breakdown of its key parameters:\n",
        "\n",
        "*   **`filename`**: The name of the output video file (e.g., `\"output.avi\"`). The file extension determines the video format.\n",
        "*   **`fourcc`**: A 4-character code used to specify the video codec. Common codecs include:\n",
        "    *   `cv2.VideoWriter_fourcc('M', 'J', 'P', 'G')` for `.avi` files (MJPEG codec)\n",
        "    *   `cv2.VideoWriter_fourcc('X', 'V', 'I', 'D')` for `.avi` files (XVID codec)\n",
        "    *   `cv2.VideoWriter_fourcc('M', 'P', '4', 'V')` for `.mp4` files (MPEG-4 codec)\n",
        "    *   `cv2.VideoWriter_fourcc('X', '2', '6', '4')` for `.mp4` files (H.264 codec)\n",
        "*   **`fps`**: The frame rate of the output video (frames per second).\n",
        "*   **`frameSize`**: The size of the video frames as a tuple `(width, height)`.\n",
        "\n",
        "Here's a basic example of how to use `cv2.VideoWriter()`:"
      ]
    },
    {
      "cell_type": "code",
      "source": [
        "out = cv2.VideoWriter(\"sample_video.avi\",\n",
        "                cv2.VideoWriter_fourcc(\"X\", \"V\", \"I\", \"D\"),\n",
        "                15,\n",
        "                (int(sample_video.get(cv2.CAP_PROP_FRAME_WIDTH)), int(sample_video.get(cv2.CAP_PROP_FRAME_HEIGHT))))"
      ],
      "metadata": {
        "id": "di5joM1gqV0r"
      },
      "execution_count": 28,
      "outputs": []
    },
    {
      "cell_type": "code",
      "source": [
        "while True:\n",
        "    ret, frame = sample_video.read()\n",
        "\n",
        "    if ret is True:\n",
        "        cv2_imshow(frame)\n",
        "        out.write(frame)\n",
        "    else:\n",
        "        break\n",
        ""
      ],
      "metadata": {
        "id": "fvHKf7rtvSmD"
      },
      "execution_count": 27,
      "outputs": []
    },
    {
      "cell_type": "code",
      "source": [],
      "metadata": {
        "id": "L58BCVhpwkZV"
      },
      "execution_count": null,
      "outputs": []
    }
  ]
}